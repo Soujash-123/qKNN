{
  "nbformat": 4,
  "nbformat_minor": 0,
  "metadata": {
    "colab": {
      "provenance": []
    },
    "kernelspec": {
      "name": "python3",
      "display_name": "Python 3"
    },
    "language_info": {
      "name": "python"
    }
  },
  "cells": [
    {
      "cell_type": "code",
      "execution_count": 20,
      "metadata": {
        "colab": {
          "base_uri": "https://localhost:8080/"
        },
        "id": "dbIOXUmMj8nN",
        "outputId": "1777652d-ba85-405e-a3c5-50ffdb1f30f5"
      },
      "outputs": [
        {
          "output_type": "stream",
          "name": "stdout",
          "text": [
            "Requirement already satisfied: qiskit in /usr/local/lib/python3.10/dist-packages (1.2.4)\n",
            "Requirement already satisfied: qiskit-aer in /usr/local/lib/python3.10/dist-packages (0.15.1)\n",
            "Requirement already satisfied: rustworkx>=0.15.0 in /usr/local/lib/python3.10/dist-packages (from qiskit) (0.15.1)\n",
            "Requirement already satisfied: numpy<3,>=1.17 in /usr/local/lib/python3.10/dist-packages (from qiskit) (1.26.4)\n",
            "Requirement already satisfied: scipy>=1.5 in /usr/local/lib/python3.10/dist-packages (from qiskit) (1.13.1)\n",
            "Requirement already satisfied: sympy>=1.3 in /usr/local/lib/python3.10/dist-packages (from qiskit) (1.13.1)\n",
            "Requirement already satisfied: dill>=0.3 in /usr/local/lib/python3.10/dist-packages (from qiskit) (0.3.9)\n",
            "Requirement already satisfied: python-dateutil>=2.8.0 in /usr/local/lib/python3.10/dist-packages (from qiskit) (2.8.2)\n",
            "Requirement already satisfied: stevedore>=3.0.0 in /usr/local/lib/python3.10/dist-packages (from qiskit) (5.4.0)\n",
            "Requirement already satisfied: typing-extensions in /usr/local/lib/python3.10/dist-packages (from qiskit) (4.12.2)\n",
            "Requirement already satisfied: symengine<0.14,>=0.11 in /usr/local/lib/python3.10/dist-packages (from qiskit) (0.13.0)\n",
            "Requirement already satisfied: psutil>=5 in /usr/local/lib/python3.10/dist-packages (from qiskit-aer) (5.9.5)\n",
            "Requirement already satisfied: six>=1.5 in /usr/local/lib/python3.10/dist-packages (from python-dateutil>=2.8.0->qiskit) (1.16.0)\n",
            "Requirement already satisfied: pbr>=2.0.0 in /usr/local/lib/python3.10/dist-packages (from stevedore>=3.0.0->qiskit) (6.1.0)\n",
            "Requirement already satisfied: mpmath<1.4,>=1.1.0 in /usr/local/lib/python3.10/dist-packages (from sympy>=1.3->qiskit) (1.3.0)\n"
          ]
        }
      ],
      "source": [
        "!pip install qiskit qiskit-aer"
      ]
    },
    {
      "cell_type": "code",
      "source": [
        "import torch\n",
        "from qiskit import QuantumCircuit\n",
        "from sklearn.datasets import load_breast_cancer\n",
        "from sklearn.metrics import accuracy_score\n",
        "from collections import Counter\n",
        "from qiskit.quantum_info import Statevector\n",
        "import numpy as np"
      ],
      "metadata": {
        "id": "4m8DJmQGkBsE"
      },
      "execution_count": 21,
      "outputs": []
    },
    {
      "cell_type": "code",
      "source": [
        "device = torch.device(\"cuda\" if torch.cuda.is_available() else \"cpu\")\n",
        "print(f\"Using device: {device}\")\n"
      ],
      "metadata": {
        "colab": {
          "base_uri": "https://localhost:8080/"
        },
        "id": "rZYgrsd-kCbM",
        "outputId": "a927b3b7-40d9-45e8-8d3a-511c9d0b7883"
      },
      "execution_count": 22,
      "outputs": [
        {
          "output_type": "stream",
          "name": "stdout",
          "text": [
            "Using device: cpu\n"
          ]
        }
      ]
    },
    {
      "cell_type": "code",
      "source": [
        "data_obj = load_breast_cancer()\n",
        "data = torch.tensor(data_obj.data, dtype=torch.float32, device=device)  # Features\n",
        "labels = torch.tensor(data_obj.target, dtype=torch.int64, device=device)  # Labels"
      ],
      "metadata": {
        "id": "ZAQhOx2jkFN8"
      },
      "execution_count": 23,
      "outputs": []
    },
    {
      "cell_type": "code",
      "source": [
        "data = (data - data.min(dim=0).values) / (data.max(dim=0).values - data.min(dim=0).values)"
      ],
      "metadata": {
        "id": "4fzKfRmZkH10"
      },
      "execution_count": 24,
      "outputs": []
    },
    {
      "cell_type": "code",
      "source": [
        "def encode_data_into_state(vector):\n",
        "    \"\"\"Encodes a vector into a quantum state using amplitude encoding.\"\"\"\n",
        "    norm = torch.norm(vector)\n",
        "    vector = vector / norm  # Normalize\n",
        "    num_qubits = int(np.ceil(np.log2(len(vector))))\n",
        "    padded_vector = torch.cat(\n",
        "        [vector, torch.zeros(2**num_qubits - len(vector), device=device)]\n",
        "    )\n",
        "    return padded_vector"
      ],
      "metadata": {
        "id": "FtqlfVhYkLCL"
      },
      "execution_count": 25,
      "outputs": []
    },
    {
      "cell_type": "code",
      "source": [
        "def swap_test_distance(train_state, test_state):\n",
        "    # Convert the PyTorch tensors to NumPy arrays (Qiskit works with NumPy arrays)\n",
        "  train_state_np = train_state.numpy()\n",
        "  test_state_np = test_state.numpy()\n",
        "\n",
        "  # Convert the NumPy arrays into statevectors using Qiskit\n",
        "  train_state_qiskit = Statevector(train_state_np)\n",
        "  test_state_qiskit = Statevector(test_state_np)\n",
        "\n",
        "  # Compute the inner product (overlap) between the two states\n",
        "  inner_product = np.vdot(train_state_qiskit.data, test_state_qiskit.data)\n",
        "\n",
        "  # Compute the overlap (absolute value squared of the inner product)\n",
        "  overlap = np.abs(inner_product)\n",
        "\n",
        "  # Compute the distance (1 - overlap)\n",
        "  distance = 1 - overlap**2\n",
        "\n",
        "  return 1 - overlap, distance"
      ],
      "metadata": {
        "id": "4mHbORECkO_2"
      },
      "execution_count": 30,
      "outputs": []
    },
    {
      "cell_type": "code",
      "source": [
        "def tribrid_qknn_classifier(test_point, training_data, train_data_raw, labels, k, alpha=0.4, beta=0.3):\n",
        "    \"\"\"\n",
        "    Tribrid kNN Classifier combining quantum fidelity, SWAP test overlap, and Euclidean distance.\n",
        "    Args:\n",
        "        test_point: Test sample (torch tensor).\n",
        "        training_data: Quantum-encoded training data (list of tensors).\n",
        "        train_data_raw: Raw training data (torch tensor).\n",
        "        labels: Labels for the training data.\n",
        "        k: Number of neighbors to consider.\n",
        "        alpha: Weight for quantum fidelity (0 <= alpha <= 1).\n",
        "        beta: Weight for SWAP test overlap (0 <= beta <= 1).\n",
        "               (1 - alpha - beta) weight is applied to Euclidean distance.\n",
        "    Returns:\n",
        "        Predicted label for the test sample.\n",
        "    \"\"\"\n",
        "    test_state = encode_data_into_state(test_point)\n",
        "    distances = []\n",
        "\n",
        "    # Compute tribrid distances\n",
        "    for train_state, train_raw in zip(training_data, train_data_raw):\n",
        "        # Quantum Fidelity Distance\n",
        "        swap_overlap, quantum_fidelity_distance = swap_test_distance(test_state, train_state)\n",
        "\n",
        "        # SWAP Test Overlap (direct overlap as a distance metric)\n",
        "        #swap_overlap = 1 - torch.abs(torch.dot(test_state, train_state)).item()\n",
        "\n",
        "        # Euclidean Distance\n",
        "        euclidean_distance = torch.dist(test_point, train_raw).item()\n",
        "\n",
        "        # Tribrid Distance\n",
        "        tribrid_distance = (\n",
        "            alpha * quantum_fidelity_distance +\n",
        "            beta * swap_overlap +\n",
        "            (1 - alpha - beta) * euclidean_distance\n",
        "        )\n",
        "        distances.append(tribrid_distance)\n",
        "\n",
        "    # Find indices of the k nearest neighbors\n",
        "    k_nearest_indices = np.argsort(distances)[:k]\n",
        "\n",
        "    # Get the labels of the k nearest neighbors\n",
        "    k_nearest_labels = labels[k_nearest_indices]\n",
        "    most_common = Counter(k_nearest_labels.tolist()).most_common(1)\n",
        "    return most_common[0][0]"
      ],
      "metadata": {
        "id": "35UAPVbNkRmr"
      },
      "execution_count": 29,
      "outputs": []
    },
    {
      "cell_type": "code",
      "source": [
        "train_data = data[:400]\n",
        "test_data = data[400:]\n",
        "train_labels = labels[:400]\n",
        "test_labels = labels[400:]\n",
        "\n",
        "# Encode training data into quantum states\n",
        "training_states = [encode_data_into_state(vec) for vec in train_data]\n",
        "\n",
        "# Predict labels for the test set\n",
        "k_values = [3, 5, 7]\n",
        "alphas = [0.3, 0.4, 0.5]  # Test different weightings for fidelity\n",
        "betas = [0.2, 0.3, 0.4]   # Test different weightings for SWAP test overlap\n",
        "best_accuracy = 0\n",
        "best_k = None\n",
        "best_alpha = None\n",
        "best_beta = None\n",
        "\n",
        "# Grid search over k, alpha, and beta\n",
        "for alpha in alphas:\n",
        "    for beta in betas:\n",
        "        if alpha + beta >= 1.0:  # Ensure weights sum to <= 1\n",
        "            continue\n",
        "        for k in k_values:\n",
        "            predicted_labels = []\n",
        "            for test_point in test_data:\n",
        "                predicted_label = tribrid_qknn_classifier(\n",
        "                    test_point, training_states, train_data, train_labels, k, alpha, beta\n",
        "                )\n",
        "                predicted_labels.append(predicted_label)\n",
        "\n",
        "            # Calculate accuracy\n",
        "            predicted_labels = torch.tensor(predicted_labels, device=device)\n",
        "            accuracy = accuracy_score(test_labels.cpu().numpy(), predicted_labels.cpu().numpy())\n",
        "            print(f\"alpha={alpha}, beta={beta}, k={k}, Accuracy: {accuracy * 100:.2f}%\")\n",
        "\n",
        "            # Update best parameters\n",
        "            if accuracy > best_accuracy:\n",
        "                best_accuracy = accuracy\n",
        "                best_k = k\n",
        "                best_alpha = alpha\n",
        "                best_beta = beta\n",
        "\n",
        "print(f\"Best alpha: {best_alpha}, Best beta: {best_beta}, Best k: {best_k}, Best Accuracy: {best_accuracy * 100:.2f}%\")\n",
        "\n",
        "# Final Evaluation with Best k, alpha, and beta\n",
        "predicted_labels = []\n",
        "for test_point in test_data:\n",
        "    predicted_label = tribrid_qknn_classifier(\n",
        "        test_point, training_states, train_data, train_labels, best_k, best_alpha, best_beta\n",
        "    )\n",
        "    predicted_labels.append(predicted_label)\n",
        "\n",
        "predicted_labels = torch.tensor(predicted_labels, device=device)\n",
        "final_accuracy = accuracy_score(test_labels.cpu().numpy(), predicted_labels.cpu().numpy())\n",
        "print(f\"Final Model Accuracy: {final_accuracy * 100:.2f}%\")\n",
        "\n"
      ],
      "metadata": {
        "colab": {
          "base_uri": "https://localhost:8080/"
        },
        "id": "tjwUwU7tkV7T",
        "outputId": "cd345c29-71c9-4ca6-b734-78dc7f4d2454"
      },
      "execution_count": 31,
      "outputs": [
        {
          "output_type": "stream",
          "name": "stdout",
          "text": [
            "alpha=0.3, beta=0.2, k=3, Accuracy: 96.45%\n",
            "alpha=0.3, beta=0.2, k=5, Accuracy: 96.45%\n",
            "alpha=0.3, beta=0.2, k=7, Accuracy: 96.45%\n",
            "alpha=0.3, beta=0.3, k=3, Accuracy: 96.45%\n",
            "alpha=0.3, beta=0.3, k=5, Accuracy: 97.04%\n",
            "alpha=0.3, beta=0.3, k=7, Accuracy: 96.45%\n",
            "alpha=0.3, beta=0.4, k=3, Accuracy: 95.27%\n",
            "alpha=0.3, beta=0.4, k=5, Accuracy: 98.22%\n",
            "alpha=0.3, beta=0.4, k=7, Accuracy: 96.45%\n",
            "alpha=0.4, beta=0.2, k=3, Accuracy: 95.86%\n",
            "alpha=0.4, beta=0.2, k=5, Accuracy: 97.04%\n",
            "alpha=0.4, beta=0.2, k=7, Accuracy: 97.04%\n",
            "alpha=0.4, beta=0.3, k=3, Accuracy: 95.27%\n",
            "alpha=0.4, beta=0.3, k=5, Accuracy: 98.22%\n",
            "alpha=0.4, beta=0.3, k=7, Accuracy: 96.45%\n",
            "alpha=0.4, beta=0.4, k=3, Accuracy: 94.67%\n",
            "alpha=0.4, beta=0.4, k=5, Accuracy: 98.22%\n",
            "alpha=0.4, beta=0.4, k=7, Accuracy: 97.04%\n",
            "alpha=0.5, beta=0.2, k=3, Accuracy: 95.27%\n",
            "alpha=0.5, beta=0.2, k=5, Accuracy: 98.22%\n",
            "alpha=0.5, beta=0.2, k=7, Accuracy: 96.45%\n",
            "alpha=0.5, beta=0.3, k=3, Accuracy: 94.67%\n",
            "alpha=0.5, beta=0.3, k=5, Accuracy: 97.63%\n",
            "alpha=0.5, beta=0.3, k=7, Accuracy: 96.45%\n",
            "alpha=0.5, beta=0.4, k=3, Accuracy: 95.27%\n",
            "alpha=0.5, beta=0.4, k=5, Accuracy: 95.86%\n",
            "alpha=0.5, beta=0.4, k=7, Accuracy: 95.27%\n",
            "Best alpha: 0.3, Best beta: 0.4, Best k: 5, Best Accuracy: 98.22%\n",
            "Final Model Accuracy: 98.22%\n"
          ]
        }
      ]
    }
  ]
}