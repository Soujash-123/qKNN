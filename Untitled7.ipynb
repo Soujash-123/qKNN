{
  "nbformat": 4,
  "nbformat_minor": 0,
  "metadata": {
    "colab": {
      "provenance": []
    },
    "kernelspec": {
      "name": "python3",
      "display_name": "Python 3"
    },
    "language_info": {
      "name": "python"
    }
  },
  "cells": [
    {
      "cell_type": "code",
      "execution_count": null,
      "metadata": {
        "colab": {
          "base_uri": "https://localhost:8080/"
        },
        "id": "dbIOXUmMj8nN",
        "outputId": "0ffe19de-1b30-4f9c-a424-79615892e35f"
      },
      "outputs": [
        {
          "output_type": "stream",
          "name": "stdout",
          "text": [
            "Collecting qiskit\n",
            "  Downloading qiskit-1.2.4-cp38-abi3-manylinux_2_17_x86_64.manylinux2014_x86_64.whl.metadata (12 kB)\n",
            "Collecting qiskit-aer\n",
            "  Downloading qiskit_aer-0.15.1-cp310-cp310-manylinux_2_17_x86_64.manylinux2014_x86_64.whl.metadata (8.0 kB)\n",
            "Collecting rustworkx>=0.15.0 (from qiskit)\n",
            "  Downloading rustworkx-0.15.1-cp38-abi3-manylinux_2_17_x86_64.manylinux2014_x86_64.whl.metadata (9.9 kB)\n",
            "Requirement already satisfied: numpy<3,>=1.17 in /usr/local/lib/python3.10/dist-packages (from qiskit) (1.26.4)\n",
            "Requirement already satisfied: scipy>=1.5 in /usr/local/lib/python3.10/dist-packages (from qiskit) (1.13.1)\n",
            "Requirement already satisfied: sympy>=1.3 in /usr/local/lib/python3.10/dist-packages (from qiskit) (1.13.1)\n",
            "Collecting dill>=0.3 (from qiskit)\n",
            "  Downloading dill-0.3.9-py3-none-any.whl.metadata (10 kB)\n",
            "Requirement already satisfied: python-dateutil>=2.8.0 in /usr/local/lib/python3.10/dist-packages (from qiskit) (2.8.2)\n",
            "Collecting stevedore>=3.0.0 (from qiskit)\n",
            "  Downloading stevedore-5.4.0-py3-none-any.whl.metadata (2.3 kB)\n",
            "Requirement already satisfied: typing-extensions in /usr/local/lib/python3.10/dist-packages (from qiskit) (4.12.2)\n",
            "Collecting symengine<0.14,>=0.11 (from qiskit)\n",
            "  Downloading symengine-0.13.0-cp310-cp310-manylinux_2_17_x86_64.manylinux2014_x86_64.whl.metadata (1.2 kB)\n",
            "Requirement already satisfied: psutil>=5 in /usr/local/lib/python3.10/dist-packages (from qiskit-aer) (5.9.5)\n",
            "Requirement already satisfied: six>=1.5 in /usr/local/lib/python3.10/dist-packages (from python-dateutil>=2.8.0->qiskit) (1.16.0)\n",
            "Collecting pbr>=2.0.0 (from stevedore>=3.0.0->qiskit)\n",
            "  Downloading pbr-6.1.0-py2.py3-none-any.whl.metadata (3.4 kB)\n",
            "Requirement already satisfied: mpmath<1.4,>=1.1.0 in /usr/local/lib/python3.10/dist-packages (from sympy>=1.3->qiskit) (1.3.0)\n",
            "Downloading qiskit-1.2.4-cp38-abi3-manylinux_2_17_x86_64.manylinux2014_x86_64.whl (4.8 MB)\n",
            "\u001b[2K   \u001b[90m━━━━━━━━━━━━━━━━━━━━━━━━━━━━━━━━━━━━━━━━\u001b[0m \u001b[32m4.8/4.8 MB\u001b[0m \u001b[31m22.8 MB/s\u001b[0m eta \u001b[36m0:00:00\u001b[0m\n",
            "\u001b[?25hDownloading qiskit_aer-0.15.1-cp310-cp310-manylinux_2_17_x86_64.manylinux2014_x86_64.whl (12.3 MB)\n",
            "\u001b[2K   \u001b[90m━━━━━━━━━━━━━━━━━━━━━━━━━━━━━━━━━━━━━━━━\u001b[0m \u001b[32m12.3/12.3 MB\u001b[0m \u001b[31m14.8 MB/s\u001b[0m eta \u001b[36m0:00:00\u001b[0m\n",
            "\u001b[?25hDownloading dill-0.3.9-py3-none-any.whl (119 kB)\n",
            "\u001b[2K   \u001b[90m━━━━━━━━━━━━━━━━━━━━━━━━━━━━━━━━━━━━━━━━\u001b[0m \u001b[32m119.4/119.4 kB\u001b[0m \u001b[31m6.8 MB/s\u001b[0m eta \u001b[36m0:00:00\u001b[0m\n",
            "\u001b[?25hDownloading rustworkx-0.15.1-cp38-abi3-manylinux_2_17_x86_64.manylinux2014_x86_64.whl (2.0 MB)\n",
            "\u001b[2K   \u001b[90m━━━━━━━━━━━━━━━━━━━━━━━━━━━━━━━━━━━━━━━━\u001b[0m \u001b[32m2.0/2.0 MB\u001b[0m \u001b[31m19.4 MB/s\u001b[0m eta \u001b[36m0:00:00\u001b[0m\n",
            "\u001b[?25hDownloading stevedore-5.4.0-py3-none-any.whl (49 kB)\n",
            "\u001b[2K   \u001b[90m━━━━━━━━━━━━━━━━━━━━━━━━━━━━━━━━━━━━━━━━\u001b[0m \u001b[32m49.5/49.5 kB\u001b[0m \u001b[31m1.3 MB/s\u001b[0m eta \u001b[36m0:00:00\u001b[0m\n",
            "\u001b[?25hDownloading symengine-0.13.0-cp310-cp310-manylinux_2_17_x86_64.manylinux2014_x86_64.whl (49.7 MB)\n",
            "\u001b[2K   \u001b[90m━━━━━━━━━━━━━━━━━━━━━━━━━━━━━━━━━━━━━━━━\u001b[0m \u001b[32m49.7/49.7 MB\u001b[0m \u001b[31m11.3 MB/s\u001b[0m eta \u001b[36m0:00:00\u001b[0m\n",
            "\u001b[?25hDownloading pbr-6.1.0-py2.py3-none-any.whl (108 kB)\n",
            "\u001b[2K   \u001b[90m━━━━━━━━━━━━━━━━━━━━━━━━━━━━━━━━━━━━━━━━\u001b[0m \u001b[32m108.5/108.5 kB\u001b[0m \u001b[31m5.8 MB/s\u001b[0m eta \u001b[36m0:00:00\u001b[0m\n",
            "\u001b[?25hInstalling collected packages: symengine, rustworkx, pbr, dill, stevedore, qiskit, qiskit-aer\n",
            "Successfully installed dill-0.3.9 pbr-6.1.0 qiskit-1.2.4 qiskit-aer-0.15.1 rustworkx-0.15.1 stevedore-5.4.0 symengine-0.13.0\n"
          ]
        }
      ],
      "source": [
        "!pip install qiskit qiskit-aer"
      ]
    },
    {
      "cell_type": "code",
      "source": [
        "import torch\n",
        "from qiskit import QuantumCircuit\n",
        "from sklearn.datasets import load_breast_cancer\n",
        "from sklearn.metrics import accuracy_score\n",
        "from collections import Counter\n",
        "import numpy as np"
      ],
      "metadata": {
        "id": "4m8DJmQGkBsE"
      },
      "execution_count": null,
      "outputs": []
    },
    {
      "cell_type": "code",
      "source": [
        "device = torch.device(\"cuda\" if torch.cuda.is_available() else \"cpu\")\n",
        "print(f\"Using device: {device}\")\n"
      ],
      "metadata": {
        "colab": {
          "base_uri": "https://localhost:8080/"
        },
        "id": "rZYgrsd-kCbM",
        "outputId": "ee809921-b975-414d-8c20-363c3b48d721"
      },
      "execution_count": null,
      "outputs": [
        {
          "output_type": "stream",
          "name": "stdout",
          "text": [
            "Using device: cpu\n"
          ]
        }
      ]
    },
    {
      "cell_type": "code",
      "source": [
        "data_obj = load_breast_cancer()\n",
        "data = torch.tensor(data_obj.data, dtype=torch.float32, device=device)  # Features\n",
        "labels = torch.tensor(data_obj.target, dtype=torch.int64, device=device)  # Labels"
      ],
      "metadata": {
        "id": "ZAQhOx2jkFN8"
      },
      "execution_count": null,
      "outputs": []
    },
    {
      "cell_type": "code",
      "source": [
        "data = (data - data.min(dim=0).values) / (data.max(dim=0).values - data.min(dim=0).values)"
      ],
      "metadata": {
        "id": "4fzKfRmZkH10"
      },
      "execution_count": 16,
      "outputs": []
    },
    {
      "cell_type": "code",
      "source": [
        "def encode_data_into_state(vector):\n",
        "    \"\"\"Encodes a vector into a quantum state using amplitude encoding.\"\"\"\n",
        "    norm = torch.norm(vector)\n",
        "    vector = vector / norm  # Normalize\n",
        "    num_qubits = int(np.ceil(np.log2(len(vector))))\n",
        "    padded_vector = torch.cat(\n",
        "        [vector, torch.zeros(2**num_qubits - len(vector), device=device)]\n",
        "    )\n",
        "    return padded_vector"
      ],
      "metadata": {
        "id": "FtqlfVhYkLCL"
      },
      "execution_count": 13,
      "outputs": []
    },
    {
      "cell_type": "code",
      "source": [
        "# SWAP Test Simulation\n",
        "def swap_test_distance(state1, state2):\n",
        "    \"\"\"Approximate SWAP test distance.\"\"\"\n",
        "    overlap = torch.abs(torch.dot(state1, state2)) ** 2  # Inner product squared\n",
        "    return 1 - overlap.item()  # Distance is inverse of overlap\n"
      ],
      "metadata": {
        "id": "4mHbORECkO_2"
      },
      "execution_count": 17,
      "outputs": []
    },
    {
      "cell_type": "code",
      "source": [
        "def tribrid_qknn_classifier(test_point, training_data, train_data_raw, labels, k, alpha=0.4, beta=0.3):\n",
        "    \"\"\"\n",
        "    Tribrid kNN Classifier combining quantum fidelity, SWAP test overlap, and Euclidean distance.\n",
        "    Args:\n",
        "        test_point: Test sample (torch tensor).\n",
        "        training_data: Quantum-encoded training data (list of tensors).\n",
        "        train_data_raw: Raw training data (torch tensor).\n",
        "        labels: Labels for the training data.\n",
        "        k: Number of neighbors to consider.\n",
        "        alpha: Weight for quantum fidelity (0 <= alpha <= 1).\n",
        "        beta: Weight for SWAP test overlap (0 <= beta <= 1).\n",
        "               (1 - alpha - beta) weight is applied to Euclidean distance.\n",
        "    Returns:\n",
        "        Predicted label for the test sample.\n",
        "    \"\"\"\n",
        "    test_state = encode_data_into_state(test_point)\n",
        "    distances = []\n",
        "\n",
        "    # Compute tribrid distances\n",
        "    for train_state, train_raw in zip(training_data, train_data_raw):\n",
        "        # Quantum Fidelity Distance\n",
        "        quantum_fidelity_distance = swap_test_distance(test_state, train_state)\n",
        "\n",
        "        # SWAP Test Overlap (direct overlap as a distance metric)\n",
        "        swap_overlap = 1 - torch.abs(torch.dot(test_state, train_state)).item()\n",
        "\n",
        "        # Euclidean Distance\n",
        "        euclidean_distance = torch.dist(test_point, train_raw).item()\n",
        "\n",
        "        # Tribrid Distance\n",
        "        tribrid_distance = (\n",
        "            alpha * quantum_fidelity_distance +\n",
        "            beta * swap_overlap +\n",
        "            (1 - alpha - beta) * euclidean_distance\n",
        "        )\n",
        "        distances.append(tribrid_distance)\n",
        "\n",
        "    # Find indices of the k nearest neighbors\n",
        "    k_nearest_indices = np.argsort(distances)[:k]\n",
        "\n",
        "    # Get the labels of the k nearest neighbors\n",
        "    k_nearest_labels = labels[k_nearest_indices]\n",
        "    most_common = Counter(k_nearest_labels.tolist()).most_common(1)\n",
        "    return most_common[0][0]"
      ],
      "metadata": {
        "id": "35UAPVbNkRmr"
      },
      "execution_count": 18,
      "outputs": []
    },
    {
      "cell_type": "code",
      "source": [
        "train_data = data[:400]\n",
        "test_data = data[400:]\n",
        "train_labels = labels[:400]\n",
        "test_labels = labels[400:]\n",
        "\n",
        "# Encode training data into quantum states\n",
        "training_states = [encode_data_into_state(vec) for vec in train_data]\n",
        "\n",
        "# Predict labels for the test set\n",
        "k_values = [3, 5, 7]\n",
        "alphas = [0.3, 0.4, 0.5]  # Test different weightings for fidelity\n",
        "betas = [0.2, 0.3, 0.4]   # Test different weightings for SWAP test overlap\n",
        "best_accuracy = 0\n",
        "best_k = None\n",
        "best_alpha = None\n",
        "best_beta = None\n",
        "\n",
        "# Grid search over k, alpha, and beta\n",
        "for alpha in alphas:\n",
        "    for beta in betas:\n",
        "        if alpha + beta >= 1.0:  # Ensure weights sum to <= 1\n",
        "            continue\n",
        "        for k in k_values:\n",
        "            predicted_labels = []\n",
        "            for test_point in test_data:\n",
        "                predicted_label = tribrid_qknn_classifier(\n",
        "                    test_point, training_states, train_data, train_labels, k, alpha, beta\n",
        "                )\n",
        "                predicted_labels.append(predicted_label)\n",
        "\n",
        "            # Calculate accuracy\n",
        "            predicted_labels = torch.tensor(predicted_labels, device=device)\n",
        "            accuracy = accuracy_score(test_labels.cpu().numpy(), predicted_labels.cpu().numpy())\n",
        "            print(f\"alpha={alpha}, beta={beta}, k={k}, Accuracy: {accuracy * 100:.2f}%\")\n",
        "\n",
        "            # Update best parameters\n",
        "            if accuracy > best_accuracy:\n",
        "                best_accuracy = accuracy\n",
        "                best_k = k\n",
        "                best_alpha = alpha\n",
        "                best_beta = beta\n",
        "\n",
        "print(f\"Best alpha: {best_alpha}, Best beta: {best_beta}, Best k: {best_k}, Best Accuracy: {best_accuracy * 100:.2f}%\")\n",
        "\n",
        "# Final Evaluation with Best k, alpha, and beta\n",
        "predicted_labels = []\n",
        "for test_point in test_data:\n",
        "    predicted_label = tribrid_qknn_classifier(\n",
        "        test_point, training_states, train_data, train_labels, best_k, best_alpha, best_beta\n",
        "    )\n",
        "    predicted_labels.append(predicted_label)\n",
        "\n",
        "predicted_labels = torch.tensor(predicted_labels, device=device)\n",
        "final_accuracy = accuracy_score(test_labels.cpu().numpy(), predicted_labels.cpu().numpy())\n",
        "print(f\"Final Model Accuracy: {final_accuracy * 100:.2f}%\")\n",
        "\n"
      ],
      "metadata": {
        "colab": {
          "base_uri": "https://localhost:8080/"
        },
        "id": "tjwUwU7tkV7T",
        "outputId": "84583d6b-ff28-4af0-cdb6-db8958bbe044"
      },
      "execution_count": 19,
      "outputs": [
        {
          "output_type": "stream",
          "name": "stdout",
          "text": [
            "alpha=0.3, beta=0.2, k=3, Accuracy: 96.45%\n",
            "alpha=0.3, beta=0.2, k=5, Accuracy: 96.45%\n",
            "alpha=0.3, beta=0.2, k=7, Accuracy: 96.45%\n",
            "alpha=0.3, beta=0.3, k=3, Accuracy: 96.45%\n",
            "alpha=0.3, beta=0.3, k=5, Accuracy: 97.04%\n",
            "alpha=0.3, beta=0.3, k=7, Accuracy: 96.45%\n",
            "alpha=0.3, beta=0.4, k=3, Accuracy: 95.27%\n",
            "alpha=0.3, beta=0.4, k=5, Accuracy: 98.22%\n",
            "alpha=0.3, beta=0.4, k=7, Accuracy: 96.45%\n",
            "alpha=0.4, beta=0.2, k=3, Accuracy: 95.86%\n",
            "alpha=0.4, beta=0.2, k=5, Accuracy: 97.04%\n",
            "alpha=0.4, beta=0.2, k=7, Accuracy: 97.04%\n",
            "alpha=0.4, beta=0.3, k=3, Accuracy: 95.27%\n",
            "alpha=0.4, beta=0.3, k=5, Accuracy: 98.22%\n",
            "alpha=0.4, beta=0.3, k=7, Accuracy: 96.45%\n",
            "alpha=0.4, beta=0.4, k=3, Accuracy: 94.67%\n",
            "alpha=0.4, beta=0.4, k=5, Accuracy: 98.22%\n",
            "alpha=0.4, beta=0.4, k=7, Accuracy: 97.04%\n",
            "alpha=0.5, beta=0.2, k=3, Accuracy: 95.27%\n",
            "alpha=0.5, beta=0.2, k=5, Accuracy: 98.22%\n",
            "alpha=0.5, beta=0.2, k=7, Accuracy: 96.45%\n",
            "alpha=0.5, beta=0.3, k=3, Accuracy: 94.67%\n",
            "alpha=0.5, beta=0.3, k=5, Accuracy: 97.63%\n",
            "alpha=0.5, beta=0.3, k=7, Accuracy: 96.45%\n",
            "alpha=0.5, beta=0.4, k=3, Accuracy: 95.27%\n",
            "alpha=0.5, beta=0.4, k=5, Accuracy: 95.86%\n",
            "alpha=0.5, beta=0.4, k=7, Accuracy: 95.27%\n",
            "Best alpha: 0.3, Best beta: 0.4, Best k: 5, Best Accuracy: 98.22%\n",
            "Final Model Accuracy: 98.22%\n"
          ]
        }
      ]
    }
  ]
}